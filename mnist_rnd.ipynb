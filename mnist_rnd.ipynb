{
 "cells": [
  {
   "cell_type": "code",
   "execution_count": 1,
   "id": "6e16472f",
   "metadata": {},
   "outputs": [],
   "source": [
    "from __future__ import print_function\n",
    "import torch\n",
    "import torch.nn as nn\n",
    "import torch.nn.functional as F\n",
    "import torch.optim as optim\n",
    "from torchvision import datasets, transforms\n",
    "\n",
    "import torchvision # provide access to datasets, models, transforms, utils, etc\n",
    "import torchvision.transforms as transforms"
   ]
  },
  {
   "cell_type": "code",
   "execution_count": 2,
   "id": "22524127",
   "metadata": {},
   "outputs": [],
   "source": [
    "class Net(nn.Module):\n",
    "    def __init__(self):\n",
    "        super(Net, self).__init__()\n",
    "        self.conv1 = nn.Conv2d(1, 32, 3, padding=1) #input -? OUtput? RF\n",
    "        self.conv2 = nn.Conv2d(32, 64, 3, padding=1)\n",
    "        self.pool1 = nn.MaxPool2d(2, 2)\n",
    "        self.conv3 = nn.Conv2d(64, 128, 3, padding=1)\n",
    "        self.conv4 = nn.Conv2d(128, 256, 3, padding=1)\n",
    "        self.pool2 = nn.MaxPool2d(2, 2)\n",
    "        self.conv5 = nn.Conv2d(256, 512, 3)\n",
    "        self.conv6 = nn.Conv2d(512, 1024, 3)\n",
    "        self.linear = nn.Linear(in_features=3*3*1024, out_features = 10)\n",
    "        \n",
    "        # Taking a 10 class node one hot encoded integer (0-9) and convert it to 19 \n",
    "        # class node output for sum because sum can range from 0 to 18\n",
    "\n",
    "        self.linear_sum1 = nn.Linear(in_features=10, out_features = 100) \n",
    "        self.linear_sum2 = nn.Linear(in_features=100, out_features = 19)\n",
    "        #self.linear_sum3 = nn.Linear(in_features=50, out_features = 19)\n",
    "\n",
    "    def forward(self, x_image, x_rnd):\n",
    "        x_image = self.pool1(F.relu(self.conv2(F.relu(self.conv1(x_image)))))\n",
    "        x_image = self.pool2(F.relu(self.conv4(F.relu(self.conv3(x_image)))))\n",
    "        x_image = F.relu(self.conv6(F.relu(self.conv5(x_image))))\n",
    "        \n",
    "        # flatten the array for FC layer\n",
    "        x_image = x_image.view(x_image.size()[0], -1)\n",
    "        x_image = self.linear(x_image)\n",
    "        \n",
    "        x_one_batch_softmax = F.log_softmax(x_image, dim=1)\n",
    "        \n",
    "        x_sum = self.linear_sum2(F.relu(self.linear_sum1(x_rnd)))\n",
    "        x_sum = F.log_softmax(x_sum, dim=1)\n",
    "        \n",
    "        return x_one_batch_softmax, x_sum"
   ]
  },
  {
   "cell_type": "code",
   "execution_count": 3,
   "id": "30403599",
   "metadata": {},
   "outputs": [
    {
     "name": "stdout",
     "output_type": "stream",
     "text": [
      "Requirement already satisfied: torchsummary in /home/rogbot/deepvision/lib/python3.8/site-packages (1.5.1)\r\n"
     ]
    }
   ],
   "source": [
    "!pip install torchsummary\n",
    "from torchsummary import summary\n",
    "use_cuda = torch.cuda.is_available()\n",
    "device = torch.device(\"cuda\" if use_cuda else \"cpu\")\n",
    "network = Net().to(device)\n",
    "\n",
    "#summary(model, input_size=(1, 28, 28))"
   ]
  },
  {
   "cell_type": "code",
   "execution_count": 4,
   "id": "bc002bb0",
   "metadata": {},
   "outputs": [
    {
     "data": {
      "text/plain": [
       "device(type='cuda')"
      ]
     },
     "execution_count": 4,
     "metadata": {},
     "output_type": "execute_result"
    }
   ],
   "source": [
    "device"
   ]
  },
  {
   "cell_type": "code",
   "execution_count": 5,
   "id": "200fa084",
   "metadata": {},
   "outputs": [],
   "source": [
    "from torch.utils.data import Dataset\n",
    "import torch.nn.functional as F\n",
    "\n",
    "class MyDataset(Dataset):\n",
    "    def __init__(self, data_array):\n",
    "        self.RNdata = data_array\n",
    "        self.MNISTdata = torchvision.datasets.MNIST('../data', train=True, download=True,\n",
    "                    transform=transforms.Compose([\n",
    "                        transforms.ToTensor(),\n",
    "                        transforms.Normalize((0.1307,), (0.3081,))\n",
    "                    ]))\n",
    "        \n",
    "    def __getitem__(self, index):\n",
    "        r = self.RNdata[index]\n",
    "        RNnumber = F.one_hot(r, num_classes = 10).type(torch.float32).requires_grad_(True)\n",
    "        \n",
    "        MNISTimage, MNISTlabel = self.MNISTdata[index] \n",
    "        \n",
    "        SUMlabel = r.item() + MNISTlabel #SUM OF MNIST AND RND NUMBER\n",
    "        \n",
    "        return RNnumber, SUMlabel, MNISTimage, MNISTlabel\n",
    "    \n",
    "    def __len__(self):\n",
    "        return len(self.RNdata)"
   ]
  },
  {
   "cell_type": "code",
   "execution_count": 6,
   "id": "0dd7bf81",
   "metadata": {},
   "outputs": [
    {
     "name": "stderr",
     "output_type": "stream",
     "text": [
      "/home/rogbot/deepvision/lib/python3.8/site-packages/torchvision/datasets/mnist.py:498: UserWarning: The given NumPy array is not writeable, and PyTorch does not support non-writeable tensors. This means you can write to the underlying (supposedly non-writeable) NumPy array using the tensor. You may want to copy the array to protect its data or make it writeable before converting it to a tensor. This type of warning will be suppressed for the rest of this program. (Triggered internally at  ../torch/csrc/utils/tensor_numpy.cpp:180.)\n",
      "  return torch.from_numpy(parsed.astype(m[2], copy=False)).view(*s)\n"
     ]
    }
   ],
   "source": [
    "my_tensor = torch.randint(low=0,high=9,size=(60000,))\n",
    "\n",
    "myRNMNIST = MyDataset(my_tensor)"
   ]
  },
  {
   "cell_type": "code",
   "execution_count": 7,
   "id": "35cc004f",
   "metadata": {},
   "outputs": [],
   "source": [
    "torch.manual_seed(1)\n",
    "batch_size = 128\n",
    "kwargs = {'num_workers': 1, 'pin_memory': True} if use_cuda else {} \n",
    "\n",
    "train_RNMNIST_loader = torch.utils.data.DataLoader(myRNMNIST, batch_size = batch_size, shuffle=True)"
   ]
  },
  {
   "cell_type": "code",
   "execution_count": 8,
   "id": "93459c6d",
   "metadata": {},
   "outputs": [],
   "source": [
    "class MyDataset_test(Dataset):\n",
    "    def __init__(self, data_array):\n",
    "        self.RNdata = data_array\n",
    "        self.MNISTdata = torchvision.datasets.MNIST('../data', train=False, download=True,\n",
    "                    transform=transforms.Compose([\n",
    "                        transforms.ToTensor(),\n",
    "                        transforms.Normalize((0.1307,), (0.3081,))\n",
    "                    ]))\n",
    "        \n",
    "    def __getitem__(self, index):\n",
    "        r = self.RNdata[index]\n",
    "        RNnumber = F.one_hot(r, num_classes = 10).type(torch.float32)\n",
    "        #RNnumber = RNnumber.clone().detach().type(torch.float32).requires_grad_(True)\n",
    "\n",
    "        MNISTimage, MNISTlabel = self.MNISTdata[index] \n",
    "        \n",
    "        SUMlabel = r.item() + MNISTlabel #SUM OF MNIST AND RND NUMBER\n",
    "        \n",
    "        return RNnumber, SUMlabel, MNISTimage, MNISTlabel\n",
    "    \n",
    "    def __len__(self):\n",
    "        return len(self.RNdata)"
   ]
  },
  {
   "cell_type": "code",
   "execution_count": 9,
   "id": "13126fda",
   "metadata": {},
   "outputs": [],
   "source": [
    "my_tensor_test = torch.randint(low=0,high=9,size=(10000,))\n",
    "\n",
    "myRNMNIST_test = MyDataset_test(my_tensor_test)\n",
    "\n",
    "test_RNMNIST_loader = torch.utils.data.DataLoader(myRNMNIST_test, batch_size = batch_size, shuffle=True)"
   ]
  },
  {
   "cell_type": "code",
   "execution_count": 10,
   "id": "6cd94345",
   "metadata": {},
   "outputs": [],
   "source": [
    "from tqdm import tqdm\n",
    "torch.set_printoptions(edgeitems=128)\n",
    "\n",
    "def train(model, device, train_loader, optimizer, epoch):\n",
    "    model.train()\n",
    "    pbar = tqdm(train_loader)\n",
    "    for batch_idx, (rn_number, rn_sum_label, mnist_image, mnist_label) in enumerate(pbar):\n",
    "\n",
    "        rn_number, rn_sum_label = rn_number.to(device), rn_sum_label.to(device)\n",
    "        mnist_image, mnist_label = mnist_image.to(device), mnist_label.to(device)\n",
    "        \n",
    "        optimizer.zero_grad()\n",
    "\n",
    "        output_image, output_rnd_sum = model(mnist_image, rn_number)\n",
    "        \n",
    "        loss_mnist = F.nll_loss(output_image, mnist_label)\n",
    "        loss_sum = F.nll_loss(output_rnd_sum, rn_sum_label)\n",
    "        loss = loss_mnist + loss_sum\n",
    "        loss.backward()\n",
    "        optimizer.step()\n",
    "        \n",
    "        pbar.set_description(desc= f'MNIST loss={loss_mnist.item()} SUM loss={loss_sum.item()} batch_id={batch_idx}')\n",
    "\n",
    "\n",
    "def test(model, device, test_loader):\n",
    "    model.eval()\n",
    "    test_loss_mnist = 0\n",
    "    test_loss_sum = 0\n",
    "    correct_mnist = 0\n",
    "    correct_sum = 0\n",
    "    with torch.no_grad():\n",
    "        for rn_number, rn_sum_label, mnist_image, mnist_label in test_loader:\n",
    "            \n",
    "            rn_number, rn_sum_label = rn_number.to(device), rn_sum_label.to(device)\n",
    "            mnist_image, mnist_label = mnist_image.to(device), mnist_label.to(device)\n",
    "            \n",
    "            output_image, output_rnd_sum = model(mnist_image, rn_number)\n",
    "            #test_loss += F.nll_loss(output, target, reduction='sum').item()  # sum up batch loss\n",
    "            \n",
    "            test_loss_mnist += F.nll_loss(output_image, mnist_label, reduction='sum').item()\n",
    "            test_loss_sum += F.nll_loss(output_rnd_sum, rn_sum_label, reduction='sum').item()\n",
    "\n",
    "            pred_mnist = output_image.argmax(dim=1, keepdim=True)  # get the index of the max log-probability\n",
    "            pred_sum = output_rnd_sum.argmax(dim=1, keepdim=True)\n",
    "            \n",
    "            correct_mnist += pred_mnist.eq(mnist_label.view_as(pred_mnist)).sum().item()\n",
    "            correct_sum += pred_sum.eq(rn_sum_label.view_as(pred_sum)).sum().item()\n",
    "            #correct = correct_mnist + correct_sum\n",
    "\n",
    "    test_loss_mnist /= len(test_loader.dataset)\n",
    "    test_loss_sum /= len(test_loader.dataset)\n",
    "\n",
    "    print('\\nTest set: Average MNIST loss: {:.4f}, Accuracy: {}/{} ({:.0f}%)\\n'.format(\n",
    "        test_loss_mnist, correct_mnist, len(test_loader.dataset),\n",
    "        100. * correct_mnist / len(test_loader.dataset)))\n",
    "    \n",
    "    print('\\nTest set: Average SUM loss: {:.4f}, Accuracy: {}/{} ({:.0f}%)\\n'.format(\n",
    "        test_loss_sum, correct_sum, len(test_loader.dataset),\n",
    "        100. * correct_sum / len(test_loader.dataset)))"
   ]
  },
  {
   "cell_type": "code",
   "execution_count": 11,
   "id": "3e8047ef",
   "metadata": {
    "scrolled": true
   },
   "outputs": [
    {
     "name": "stderr",
     "output_type": "stream",
     "text": [
      "MNIST loss=0.10195460170507431 SUM loss=2.4684128761291504 batch_id=468: 100%|█|\n"
     ]
    },
    {
     "name": "stdout",
     "output_type": "stream",
     "text": [
      "\n",
      "Test set: Average MNIST loss: 0.0526, Accuracy: 9834/10000 (98%)\n",
      "\n",
      "\n",
      "Test set: Average SUM loss: 2.4593, Accuracy: 1026/10000 (10%)\n",
      "\n"
     ]
    },
    {
     "name": "stderr",
     "output_type": "stream",
     "text": [
      "MNIST loss=0.01747068576514721 SUM loss=2.348778009414673 batch_id=468: 100%|█| \n"
     ]
    },
    {
     "name": "stdout",
     "output_type": "stream",
     "text": [
      "\n",
      "Test set: Average MNIST loss: 0.0425, Accuracy: 9859/10000 (99%)\n",
      "\n",
      "\n",
      "Test set: Average SUM loss: 2.3549, Accuracy: 1039/10000 (10%)\n",
      "\n"
     ]
    },
    {
     "name": "stderr",
     "output_type": "stream",
     "text": [
      "MNIST loss=0.01674645021557808 SUM loss=2.325608015060425 batch_id=468: 100%|█| \n"
     ]
    },
    {
     "name": "stdout",
     "output_type": "stream",
     "text": [
      "\n",
      "Test set: Average MNIST loss: 0.0329, Accuracy: 9908/10000 (99%)\n",
      "\n",
      "\n",
      "Test set: Average SUM loss: 2.3281, Accuracy: 1098/10000 (11%)\n",
      "\n"
     ]
    },
    {
     "name": "stderr",
     "output_type": "stream",
     "text": [
      "MNIST loss=0.026637546718120575 SUM loss=2.3302671909332275 batch_id=468: 100%|█\n"
     ]
    },
    {
     "name": "stdout",
     "output_type": "stream",
     "text": [
      "\n",
      "Test set: Average MNIST loss: 0.0287, Accuracy: 9908/10000 (99%)\n",
      "\n",
      "\n",
      "Test set: Average SUM loss: 2.3206, Accuracy: 983/10000 (10%)\n",
      "\n"
     ]
    },
    {
     "name": "stderr",
     "output_type": "stream",
     "text": [
      "MNIST loss=0.02953304350376129 SUM loss=2.3173446655273438 batch_id=468: 100%|█|\n"
     ]
    },
    {
     "name": "stdout",
     "output_type": "stream",
     "text": [
      "\n",
      "Test set: Average MNIST loss: 0.0315, Accuracy: 9901/10000 (99%)\n",
      "\n",
      "\n",
      "Test set: Average SUM loss: 2.3149, Accuracy: 1051/10000 (11%)\n",
      "\n"
     ]
    },
    {
     "name": "stderr",
     "output_type": "stream",
     "text": [
      "MNIST loss=0.006319492589682341 SUM loss=2.316699504852295 batch_id=468: 100%|█|\n"
     ]
    },
    {
     "name": "stdout",
     "output_type": "stream",
     "text": [
      "\n",
      "Test set: Average MNIST loss: 0.0348, Accuracy: 9893/10000 (99%)\n",
      "\n",
      "\n",
      "Test set: Average SUM loss: 2.3112, Accuracy: 1085/10000 (11%)\n",
      "\n"
     ]
    },
    {
     "name": "stderr",
     "output_type": "stream",
     "text": [
      "MNIST loss=0.009280189871788025 SUM loss=2.309617519378662 batch_id=468: 100%|█|\n"
     ]
    },
    {
     "name": "stdout",
     "output_type": "stream",
     "text": [
      "\n",
      "Test set: Average MNIST loss: 0.0302, Accuracy: 9913/10000 (99%)\n",
      "\n",
      "\n",
      "Test set: Average SUM loss: 2.3112, Accuracy: 1113/10000 (11%)\n",
      "\n"
     ]
    },
    {
     "name": "stderr",
     "output_type": "stream",
     "text": [
      "MNIST loss=0.00025560209178365767 SUM loss=2.326871633529663 batch_id=468: 100%|\n"
     ]
    },
    {
     "name": "stdout",
     "output_type": "stream",
     "text": [
      "\n",
      "Test set: Average MNIST loss: 0.0300, Accuracy: 9918/10000 (99%)\n",
      "\n",
      "\n",
      "Test set: Average SUM loss: 2.3120, Accuracy: 1034/10000 (10%)\n",
      "\n"
     ]
    },
    {
     "name": "stderr",
     "output_type": "stream",
     "text": [
      "MNIST loss=0.0012243717210367322 SUM loss=2.307300329208374 batch_id=468: 100%|█\n"
     ]
    },
    {
     "name": "stdout",
     "output_type": "stream",
     "text": [
      "\n",
      "Test set: Average MNIST loss: 0.0337, Accuracy: 9905/10000 (99%)\n",
      "\n",
      "\n",
      "Test set: Average SUM loss: 2.3100, Accuracy: 1062/10000 (11%)\n",
      "\n"
     ]
    }
   ],
   "source": [
    "network = Net().to(device)\n",
    "optimizer = optim.SGD(network.parameters(), lr=0.01, momentum=0.9)\n",
    "\n",
    "for epoch in range(1, 10):\n",
    "    train(network, device, train_RNMNIST_loader, optimizer, epoch)\n",
    "    test(network, device, test_RNMNIST_loader)"
   ]
  }
 ],
 "metadata": {
  "kernelspec": {
   "display_name": "Python 3 (ipykernel)",
   "language": "python",
   "name": "python3"
  },
  "language_info": {
   "codemirror_mode": {
    "name": "ipython",
    "version": 3
   },
   "file_extension": ".py",
   "mimetype": "text/x-python",
   "name": "python",
   "nbconvert_exporter": "python",
   "pygments_lexer": "ipython3",
   "version": "3.8.10"
  }
 },
 "nbformat": 4,
 "nbformat_minor": 5
}
