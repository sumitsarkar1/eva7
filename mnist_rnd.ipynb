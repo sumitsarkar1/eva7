{
 "cells": [
  {
   "cell_type": "code",
   "execution_count": 1,
   "id": "6e16472f",
   "metadata": {},
   "outputs": [],
   "source": [
    "from __future__ import print_function\n",
    "import torch\n",
    "import torch.nn as nn\n",
    "import torch.nn.functional as F\n",
    "import torch.optim as optim\n",
    "from torchvision import datasets, transforms\n",
    "\n",
    "import torchvision # provide access to datasets, models, transforms, utils, etc\n",
    "import torchvision.transforms as transforms"
   ]
  },
  {
   "cell_type": "code",
   "execution_count": 2,
   "id": "22524127",
   "metadata": {},
   "outputs": [],
   "source": [
    "class Net(nn.Module):\n",
    "    def __init__(self):\n",
    "        super(Net, self).__init__()\n",
    "        self.conv1 = nn.Conv2d(1, 32, 3, padding=1)\n",
    "        self.conv2 = nn.Conv2d(32, 64, 3, padding=1)\n",
    "        self.pool1 = nn.MaxPool2d(2, 2)\n",
    "        self.conv3 = nn.Conv2d(64, 128, 3, padding=1)\n",
    "        self.conv4 = nn.Conv2d(128, 256, 3, padding=1)\n",
    "        self.pool2 = nn.MaxPool2d(2, 2)\n",
    "        self.conv5 = nn.Conv2d(256, 512, 3)\n",
    "        self.conv6 = nn.Conv2d(512, 1024, 3)\n",
    "        self.linear = nn.Linear(in_features=3*3*1024, out_features = 100)\n",
    "        \n",
    "        # From the CNN pipeline a 100 dimension 1D FC layer is made \n",
    "        # this 100 dimension 1D array is combined with 10 dim one hot encoding\n",
    "        # of integers belonging to 0-9 class.100 + 10 = 110 nodes are then\n",
    "        # fed to a passed to a MLP network of : \n",
    "        # 1st Hidden Layer = 200 nodes\n",
    "        # 2nd Hidden Layer = 50 nodes \n",
    "        # output has 29 dim\n",
    "        # 29 dim output is split to 10 dim for mnist label \n",
    "        # and 19 dim for sum label prediction. the sum is one of 19 class output \n",
    "        # and hence has 19 dim\n",
    "\n",
    "        self.linear_sum1 = nn.Linear(in_features=110, out_features = 200) \n",
    "        self.linear_sum2 = nn.Linear(in_features=200, out_features = 50)\n",
    "        self.linear_sum3 = nn.Linear(in_features=50, out_features = 29)\n",
    "\n",
    "    def forward(self, x_mnist, x_sum): \n",
    "        \n",
    "        # x_rnd is the one hot encoded random number\n",
    "        x_mnist = self.pool1(F.relu(self.conv2(F.relu(self.conv1(x_mnist)))))\n",
    "        x_mnist = self.pool2(F.relu(self.conv4(F.relu(self.conv3(x_mnist)))))\n",
    "        x_mnist = F.relu(self.conv6(F.relu(self.conv5(x_mnist))))\n",
    "        \n",
    "        # flatten the array for FC layer from CNN pipeline for MNIST\n",
    "        x_mnist = x_mnist.view(x_mnist.size()[0], -1)\n",
    "        x_mnist = self.linear(x_mnist)\n",
    "  \n",
    "        # x_mnist is 100 .....x_sum is 10\n",
    "        # x_combine concatenates x_mnist and x_sum\n",
    "        x_combine  = torch.cat((x_mnist, x_sum), dim=1)\n",
    "        \n",
    "        # passing x_combine into a MLP\n",
    "        x_combine = self.linear_sum3(F.relu(self.linear_sum2(F.relu(self.linear_sum1(x_combine)))))\n",
    "        x_mnist = x_combine[:,0:10]\n",
    "        x_sum = x_combine[:,10:]\n",
    "        \n",
    "        x_mnist = F.log_softmax(x_mnist, dim=1)\n",
    "        x_sum = F.log_softmax(x_sum, dim=1)\n",
    "        \n",
    "        # Network returns the 10 class soft max form of predicted MNIST (x_mnist)\n",
    "        # and 19 class soft max form of predicted SUM (x_sum)\n",
    "        return x_mnist, x_sum"
   ]
  },
  {
   "cell_type": "code",
   "execution_count": 3,
   "id": "30403599",
   "metadata": {},
   "outputs": [
    {
     "name": "stdout",
     "output_type": "stream",
     "text": [
      "Requirement already satisfied: torchsummary in /home/rogbot/deepvision/lib/python3.8/site-packages (1.5.1)\r\n"
     ]
    }
   ],
   "source": [
    "!pip install torchsummary\n",
    "from torchsummary import summary\n",
    "use_cuda = torch.cuda.is_available()\n",
    "device = torch.device(\"cuda\" if use_cuda else \"cpu\")"
   ]
  },
  {
   "cell_type": "code",
   "execution_count": 4,
   "id": "bc002bb0",
   "metadata": {},
   "outputs": [
    {
     "data": {
      "text/plain": [
       "device(type='cuda')"
      ]
     },
     "execution_count": 4,
     "metadata": {},
     "output_type": "execute_result"
    }
   ],
   "source": [
    "device"
   ]
  },
  {
   "cell_type": "code",
   "execution_count": 5,
   "id": "200fa084",
   "metadata": {},
   "outputs": [],
   "source": [
    "from torch.utils.data import Dataset\n",
    "import torch.nn.functional as F\n",
    "\n",
    "class MyDataset(Dataset):\n",
    "    def __init__(self, data_array):\n",
    "        self.RNdata = data_array\n",
    "        self.MNISTdata = torchvision.datasets.MNIST('../data', train=True, download=True,\n",
    "                    transform=transforms.Compose([\n",
    "                        transforms.ToTensor(),\n",
    "                        transforms.Normalize((0.1307,), (0.3081,))\n",
    "                    ]))\n",
    "        \n",
    "    def __getitem__(self, index):\n",
    "        r = self.RNdata[index]\n",
    "        RNnumber = F.one_hot(r, num_classes = 10).type(torch.float32).requires_grad_(True)\n",
    "        \n",
    "        MNISTimage, MNISTlabel = self.MNISTdata[index] \n",
    "        \n",
    "        # DATA IS THE NUMBER ITSELF AND THE LABEL FOR CORRECT\n",
    "        # SUM PREDICTION IS THE SUM OF THE MNIST LABEL AND THE \n",
    "        # NUMBER ITSELF\n",
    "        SUMlabel = r.item() + MNISTlabel \n",
    "        \n",
    "        return RNnumber, SUMlabel, MNISTimage, MNISTlabel\n",
    "    \n",
    "    def __len__(self):\n",
    "        return len(self.RNdata)"
   ]
  },
  {
   "cell_type": "code",
   "execution_count": 6,
   "id": "0dd7bf81",
   "metadata": {},
   "outputs": [
    {
     "name": "stderr",
     "output_type": "stream",
     "text": [
      "/home/rogbot/deepvision/lib/python3.8/site-packages/torchvision/datasets/mnist.py:498: UserWarning: The given NumPy array is not writeable, and PyTorch does not support non-writeable tensors. This means you can write to the underlying (supposedly non-writeable) NumPy array using the tensor. You may want to copy the array to protect its data or make it writeable before converting it to a tensor. This type of warning will be suppressed for the rest of this program. (Triggered internally at  ../torch/csrc/utils/tensor_numpy.cpp:180.)\n",
      "  return torch.from_numpy(parsed.astype(m[2], copy=False)).view(*s)\n"
     ]
    }
   ],
   "source": [
    "# RANDOMLY GENERATE AN ARRAY OF 60000 NUMBERS AND MAKE IT THE TRAIN DATA SET\n",
    "my_tensor = torch.randint(low=0,high=9,size=(60000,))\n",
    "\n",
    "myRNMNIST_train = MyDataset(my_tensor)"
   ]
  },
  {
   "cell_type": "code",
   "execution_count": 7,
   "id": "35cc004f",
   "metadata": {},
   "outputs": [],
   "source": [
    "batch_size = 128\n",
    "\n",
    "train_RNMNIST_loader = torch.utils.data.DataLoader(myRNMNIST_train, batch_size = batch_size, shuffle=True)"
   ]
  },
  {
   "cell_type": "code",
   "execution_count": 8,
   "id": "93459c6d",
   "metadata": {},
   "outputs": [],
   "source": [
    "class MyDataset_test(Dataset):\n",
    "    def __init__(self, data_array):\n",
    "        self.RNdata = data_array\n",
    "        self.MNISTdata = torchvision.datasets.MNIST('../data', train=False, download=True,\n",
    "                    transform=transforms.Compose([\n",
    "                        transforms.ToTensor(),\n",
    "                        transforms.Normalize((0.1307,), (0.3081,))\n",
    "                    ]))\n",
    "        \n",
    "    def __getitem__(self, index):\n",
    "        r = self.RNdata[index]\n",
    "        RNnumber = F.one_hot(r, num_classes = 10).type(torch.float32)\n",
    "\n",
    "        MNISTimage, MNISTlabel = self.MNISTdata[index] \n",
    "        \n",
    "        # DATA IS THE NUMBER ITSELF AND THE LABEL FOR CORRECT\n",
    "        # SUM PREDICTION IS THE SUM OF THE MNIST LABEL AND THE \n",
    "        # NUMBER ITSELF\n",
    "        SUMlabel = r.item() + MNISTlabel \n",
    "        \n",
    "        return RNnumber, SUMlabel, MNISTimage, MNISTlabel\n",
    "    \n",
    "    def __len__(self):\n",
    "        return len(self.RNdata)"
   ]
  },
  {
   "cell_type": "code",
   "execution_count": 9,
   "id": "13126fda",
   "metadata": {},
   "outputs": [],
   "source": [
    "# RANDOMLY GENERATE AN ARRAY OF 10000 NUMBERS AND MAKE IT THE TEST DATA SET\n",
    "my_tensor_test = torch.randint(low=0,high=9,size=(10000,))\n",
    "\n",
    "myRNMNIST_test = MyDataset_test(my_tensor_test)\n",
    "\n",
    "test_RNMNIST_loader = torch.utils.data.DataLoader(myRNMNIST_test, batch_size = batch_size, shuffle=True)"
   ]
  },
  {
   "cell_type": "code",
   "execution_count": 10,
   "id": "6cd94345",
   "metadata": {},
   "outputs": [],
   "source": [
    "from tqdm import tqdm\n",
    "\n",
    "def train(model, device, train_loader, optimizer, epoch):\n",
    "    model.train()\n",
    "    pbar = tqdm(train_loader)\n",
    "    for batch_idx, (rn_number, rn_sum_label, mnist_image, mnist_label) in enumerate(pbar):\n",
    "\n",
    "        # TRAINING ON GPU\n",
    "        rn_number, rn_sum_label = rn_number.to(device), rn_sum_label.to(device)\n",
    "        mnist_image, mnist_label = mnist_image.to(device), mnist_label.to(device)\n",
    "        \n",
    "        optimizer.zero_grad()\n",
    "\n",
    "        output_image, output_rnd_sum = model(mnist_image, rn_number)\n",
    "        \n",
    "        loss_mnist = F.nll_loss(output_image, mnist_label) # LOSS FOR PREDICTING MNIST LABEL\n",
    "        loss_sum = F.nll_loss(output_rnd_sum, rn_sum_label)# LOSS FOR PREDICTING SUM LABEL\n",
    "        \n",
    "        # ADDING BOTH THE SUM AS THE NETWORK NEEDS TO BE GOOD\n",
    "        # AT BOTH PREDICITNG THE MNIST LABEL AND THE SUM LABEL\n",
    "        # CORRECTLY AT THE SAME TIME\n",
    "        loss = loss_mnist + loss_sum \n",
    "        loss.backward()\n",
    "        optimizer.step()\n",
    "        \n",
    "        pbar.set_description(desc= f'MNIST loss={loss_mnist.item()} SUM loss={loss_sum.item()} batch_id={batch_idx}')\n",
    "\n",
    "\n",
    "def test(model, device, test_loader):\n",
    "    model.eval()\n",
    "    test_loss_mnist = 0\n",
    "    test_loss_sum = 0\n",
    "    correct_mnist = 0\n",
    "    correct_sum = 0\n",
    "    with torch.no_grad():\n",
    "        for rn_number, rn_sum_label, mnist_image, mnist_label in test_loader:\n",
    "            \n",
    "            rn_number, rn_sum_label = rn_number.to(device), rn_sum_label.to(device)\n",
    "            mnist_image, mnist_label = mnist_image.to(device), mnist_label.to(device)\n",
    "            \n",
    "            output_image, output_rnd_sum = model(mnist_image, rn_number)\n",
    "            \n",
    "            test_loss_mnist += F.nll_loss(output_image, mnist_label, reduction='sum').item()\n",
    "            test_loss_sum += F.nll_loss(output_rnd_sum, rn_sum_label, reduction='sum').item()\n",
    "\n",
    "            pred_mnist = output_image.argmax(dim=1, keepdim=True)  \n",
    "            pred_sum = output_rnd_sum.argmax(dim=1, keepdim=True)\n",
    "            \n",
    "            correct_mnist += pred_mnist.eq(mnist_label.view_as(pred_mnist)).sum().item()\n",
    "            correct_sum += pred_sum.eq(rn_sum_label.view_as(pred_sum)).sum().item()\n",
    "\n",
    "    test_loss_mnist /= len(test_loader.dataset)\n",
    "    test_loss_sum /= len(test_loader.dataset)\n",
    "\n",
    "    print('\\nTest set: Average MNIST loss: {:.4f}, Accuracy: {}/{} ({:.0f}%)\\n'.format(\n",
    "        test_loss_mnist, correct_mnist, len(test_loader.dataset),\n",
    "        100. * correct_mnist / len(test_loader.dataset)))\n",
    "    \n",
    "    print('\\nTest set: Average SUM loss: {:.4f}, Accuracy: {}/{} ({:.0f}%)\\n'.format(\n",
    "        test_loss_sum, correct_sum, len(test_loader.dataset),\n",
    "        100. * correct_sum / len(test_loader.dataset)))"
   ]
  },
  {
   "cell_type": "code",
   "execution_count": 11,
   "id": "3e8047ef",
   "metadata": {
    "scrolled": true
   },
   "outputs": [
    {
     "name": "stderr",
     "output_type": "stream",
     "text": [
      "MNIST loss=0.13151748478412628 SUM loss=2.334129571914673 batch_id=468: 100%|█| \n"
     ]
    },
    {
     "name": "stdout",
     "output_type": "stream",
     "text": [
      "\n",
      "Test set: Average MNIST loss: 0.1669, Accuracy: 9526/10000 (95%)\n",
      "\n",
      "\n",
      "Test set: Average SUM loss: 2.3467, Accuracy: 1181/10000 (12%)\n",
      "\n"
     ]
    },
    {
     "name": "stderr",
     "output_type": "stream",
     "text": [
      "MNIST loss=0.13226385414600372 SUM loss=1.6017498970031738 batch_id=468: 100%|█|\n"
     ]
    },
    {
     "name": "stdout",
     "output_type": "stream",
     "text": [
      "\n",
      "Test set: Average MNIST loss: 0.0683, Accuracy: 9819/10000 (98%)\n",
      "\n",
      "\n",
      "Test set: Average SUM loss: 1.4576, Accuracy: 4284/10000 (43%)\n",
      "\n"
     ]
    },
    {
     "name": "stderr",
     "output_type": "stream",
     "text": [
      "MNIST loss=0.04307926073670387 SUM loss=0.9536581039428711 batch_id=468: 100%|█|\n"
     ]
    },
    {
     "name": "stdout",
     "output_type": "stream",
     "text": [
      "\n",
      "Test set: Average MNIST loss: 0.0352, Accuracy: 9894/10000 (99%)\n",
      "\n",
      "\n",
      "Test set: Average SUM loss: 0.8700, Accuracy: 6945/10000 (69%)\n",
      "\n"
     ]
    },
    {
     "name": "stderr",
     "output_type": "stream",
     "text": [
      "MNIST loss=0.04952253773808479 SUM loss=0.37748631834983826 batch_id=468: 100%|█\n"
     ]
    },
    {
     "name": "stdout",
     "output_type": "stream",
     "text": [
      "\n",
      "Test set: Average MNIST loss: 0.0285, Accuracy: 9915/10000 (99%)\n",
      "\n",
      "\n",
      "Test set: Average SUM loss: 0.4081, Accuracy: 9361/10000 (94%)\n",
      "\n"
     ]
    },
    {
     "name": "stderr",
     "output_type": "stream",
     "text": [
      "MNIST loss=0.09310784935951233 SUM loss=0.1534867137670517 batch_id=468: 100%|█|\n"
     ]
    },
    {
     "name": "stdout",
     "output_type": "stream",
     "text": [
      "\n",
      "Test set: Average MNIST loss: 0.0295, Accuracy: 9910/10000 (99%)\n",
      "\n",
      "\n",
      "Test set: Average SUM loss: 0.1465, Accuracy: 9789/10000 (98%)\n",
      "\n"
     ]
    },
    {
     "name": "stderr",
     "output_type": "stream",
     "text": [
      "MNIST loss=0.09910460561513901 SUM loss=0.21645613014698029 batch_id=468: 100%|█\n"
     ]
    },
    {
     "name": "stdout",
     "output_type": "stream",
     "text": [
      "\n",
      "Test set: Average MNIST loss: 0.0246, Accuracy: 9931/10000 (99%)\n",
      "\n",
      "\n",
      "Test set: Average SUM loss: 0.0850, Accuracy: 9851/10000 (99%)\n",
      "\n"
     ]
    },
    {
     "name": "stderr",
     "output_type": "stream",
     "text": [
      "MNIST loss=0.010061712004244328 SUM loss=0.06789124757051468 batch_id=468: 100%|\n"
     ]
    },
    {
     "name": "stdout",
     "output_type": "stream",
     "text": [
      "\n",
      "Test set: Average MNIST loss: 0.0251, Accuracy: 9930/10000 (99%)\n",
      "\n",
      "\n",
      "Test set: Average SUM loss: 0.0795, Accuracy: 9866/10000 (99%)\n",
      "\n"
     ]
    },
    {
     "name": "stderr",
     "output_type": "stream",
     "text": [
      "MNIST loss=0.011025783605873585 SUM loss=0.025114253163337708 batch_id=468: 100%\n"
     ]
    },
    {
     "name": "stdout",
     "output_type": "stream",
     "text": [
      "\n",
      "Test set: Average MNIST loss: 0.0251, Accuracy: 9933/10000 (99%)\n",
      "\n",
      "\n",
      "Test set: Average SUM loss: 0.0734, Accuracy: 9882/10000 (99%)\n",
      "\n"
     ]
    },
    {
     "name": "stderr",
     "output_type": "stream",
     "text": [
      "MNIST loss=0.001581490971148014 SUM loss=0.009856115095317364 batch_id=468: 100%\n"
     ]
    },
    {
     "name": "stdout",
     "output_type": "stream",
     "text": [
      "\n",
      "Test set: Average MNIST loss: 0.0229, Accuracy: 9930/10000 (99%)\n",
      "\n",
      "\n",
      "Test set: Average SUM loss: 0.0583, Accuracy: 9893/10000 (99%)\n",
      "\n"
     ]
    },
    {
     "name": "stderr",
     "output_type": "stream",
     "text": [
      "MNIST loss=0.000775829132180661 SUM loss=0.009833535179495811 batch_id=468: 100%\n"
     ]
    },
    {
     "name": "stdout",
     "output_type": "stream",
     "text": [
      "\n",
      "Test set: Average MNIST loss: 0.0228, Accuracy: 9944/10000 (99%)\n",
      "\n",
      "\n",
      "Test set: Average SUM loss: 0.0577, Accuracy: 9904/10000 (99%)\n",
      "\n"
     ]
    }
   ],
   "source": [
    "network = Net().to(device)\n",
    "optimizer = optim.SGD(network.parameters(), lr=0.01, momentum=0.9)\n",
    "\n",
    "torch.set_printoptions(edgeitems=11)\n",
    "\n",
    "\n",
    "for epoch in range(1, 11):\n",
    "    train(network, device, train_RNMNIST_loader, optimizer, epoch)\n",
    "    test(network, device, test_RNMNIST_loader)"
   ]
  }
 ],
 "metadata": {
  "kernelspec": {
   "display_name": "Python 3 (ipykernel)",
   "language": "python",
   "name": "python3"
  },
  "language_info": {
   "codemirror_mode": {
    "name": "ipython",
    "version": 3
   },
   "file_extension": ".py",
   "mimetype": "text/x-python",
   "name": "python",
   "nbconvert_exporter": "python",
   "pygments_lexer": "ipython3",
   "version": "3.8.10"
  }
 },
 "nbformat": 4,
 "nbformat_minor": 5
}
